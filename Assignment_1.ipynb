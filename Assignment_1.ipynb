{
 "cells": [
  {
   "cell_type": "markdown",
   "id": "2481f7a5-e52d-418a-b42c-17180f15f941",
   "metadata": {},
   "source": [
    "# Q1: Create 2 lists from a given list where, 1st list will contain all the odd numbers from the original list and the 2nd will contain all the even numbers"
   ]
  },
  {
   "cell_type": "code",
   "execution_count": 2,
   "id": "59509c98-7cf5-44f7-a1ea-ed38810cf338",
   "metadata": {},
   "outputs": [
    {
     "name": "stdout",
     "output_type": "stream",
     "text": [
      "Odd number list: [1, 3, 5]\n",
      "Even number list: [2, 4, 6]\n"
     ]
    }
   ],
   "source": [
    "L = [1, 2, 3, 4, 5, 6]\n",
    "even_list = []\n",
    "odd_list = []\n",
    "for i in L:\n",
    "    if i%2==0:\n",
    "        even_list.append(i)\n",
    "\n",
    "    else:\n",
    "        odd_list.append(i)\n",
    "\n",
    "print(\"Odd number list:\", odd_list)\n",
    "print(\"Even number list:\",even_list)"
   ]
  },
  {
   "cell_type": "markdown",
   "id": "3321f0c0-7f60-4b9d-9e64-d58b9ed6b7d2",
   "metadata": {},
   "source": [
    "# Q2: How to take list as input from user"
   ]
  },
  {
   "cell_type": "code",
   "execution_count": 14,
   "id": "8294442f-9c92-47f9-9c65-13447a17d040",
   "metadata": {},
   "outputs": [
    {
     "name": "stdin",
     "output_type": "stream",
     "text": [
      "Enter number of elements :  4\n",
      " 2\n",
      " 4\n",
      " 1\n",
      " 3\n"
     ]
    },
    {
     "name": "stdout",
     "output_type": "stream",
     "text": [
      "[2, 4, 1, 3]\n"
     ]
    }
   ],
   "source": [
    "\n",
    "list = []\n",
    " \n",
    "n = int(input(\"Enter number of elements : \"))\n",
    " \n",
    "for i in range(0, n) :\n",
    "    ele = int(input())\n",
    "    \n",
    "    list.append(ele)  \n",
    " \n",
    "print(list)\n"
   ]
  },
  {
   "cell_type": "markdown",
   "id": "5bc03920-8dd7-44e5-a788-f8eaf6adbf30",
   "metadata": {},
   "source": [
    "# Q3 Write a program to merge 2 list without using the + operator"
   ]
  },
  {
   "cell_type": "code",
   "execution_count": 3,
   "id": "53589be9-2bf2-419f-b416-e0fd67ece6b7",
   "metadata": {},
   "outputs": [
    {
     "name": "stdout",
     "output_type": "stream",
     "text": [
      "[1, 2, 3, 4, 5, 6, 7, 8]\n"
     ]
    }
   ],
   "source": [
    "L1 = [1,2,3,4]\n",
    "L2 = [5,6,7,8]\n",
    "\n",
    "for i in L2:\n",
    "    L1.append(i)\n",
    "\n",
    "print(L1)"
   ]
  },
  {
   "cell_type": "markdown",
   "id": "2ddbb36f-7e19-4730-9fd5-f82f9a9d59a1",
   "metadata": {},
   "source": [
    "# Q4: Write a program to replace an item with a different items if found in the list"
   ]
  },
  {
   "cell_type": "code",
   "execution_count": 5,
   "id": "e70b3e87-e93a-40eb-943f-954240c5c48e",
   "metadata": {},
   "outputs": [
    {
     "name": "stdout",
     "output_type": "stream",
     "text": [
      "[1, 2, 300, 4, 5, 300]\n"
     ]
    }
   ],
   "source": [
    "L = [1, 2, 3, 4, 5, 3]\n",
    "\n",
    "for i in range(len(L)):\n",
    "    if L[i]==3:\n",
    "       L[i]=300\n",
    "print(L)"
   ]
  },
  {
   "cell_type": "markdown",
   "id": "c4803fcf-f7e0-468b-af54-8da11e9bb27f",
   "metadata": {},
   "source": [
    "# Q5:  Write a program that can convert a 2D list to 1D list"
   ]
  },
  {
   "cell_type": "code",
   "execution_count": 33,
   "id": "ab1497fa-967d-487a-8c72-77c39a0f73e9",
   "metadata": {},
   "outputs": [
    {
     "name": "stdout",
     "output_type": "stream",
     "text": [
      "[1, 2, 3, 4, 5, 6, 7, 8, 9]\n"
     ]
    }
   ],
   "source": [
    "L = [[1,2,3],\n",
    "     [4,5,6],\n",
    "     [7,8,9]]\n",
    "\n",
    "list_1D = []\n",
    "\n",
    "for i in L:\n",
    "  for j in i:\n",
    "   list_1D.append(j)\n",
    " \n",
    "print(list_1D)\n",
    "\n",
    "   "
   ]
  },
  {
   "cell_type": "markdown",
   "id": "b153cfb2-a457-46a1-b250-092a3fada101",
   "metadata": {},
   "source": [
    "# Q6: Write a program to remove duplicate items from a list"
   ]
  },
  {
   "cell_type": "code",
   "execution_count": 45,
   "id": "fb36ac4c-8edb-4ed8-8192-32296abe8aca",
   "metadata": {},
   "outputs": [
    {
     "name": "stdout",
     "output_type": "stream",
     "text": [
      "[1, 2, 3, 4, 5, 6]\n"
     ]
    }
   ],
   "source": [
    "L = [1, 2, 1, 2, 3, 4, 5, 3, 4, 6]\n",
    "final_list = []\n",
    "for i in L:\n",
    "    if L[i]==L[i]:\n",
    "        if i not in final_list:\n",
    "             final_list.append(i)\n",
    "       \n",
    "print(final_list)\n",
    "\n"
   ]
  },
  {
   "cell_type": "markdown",
   "id": "314faee2-6e78-4375-be23-5f374309bc19",
   "metadata": {},
   "source": [
    "# Q7: Write a program to check if a list is in ascending order or not"
   ]
  },
  {
   "cell_type": "code",
   "execution_count": 47,
   "id": "65a89630-40c6-4880-97a1-b19bf18713b5",
   "metadata": {},
   "outputs": [
    {
     "name": "stdout",
     "output_type": "stream",
     "text": [
      "list not in Ascending order\n"
     ]
    }
   ],
   "source": [
    "L = [2, 3, 1, 4, 7, 8]\n",
    "L2 = L.sort()\n",
    "\n",
    "if(L == L2):\n",
    "    print(\"list in Ascending order\")\n",
    "\n",
    "else:\n",
    "    print(\"list not in Ascending order\")\n",
    "    \n"
   ]
  }
 ],
 "metadata": {
  "kernelspec": {
   "display_name": "Python 3 (ipykernel)",
   "language": "python",
   "name": "python3"
  },
  "language_info": {
   "codemirror_mode": {
    "name": "ipython",
    "version": 3
   },
   "file_extension": ".py",
   "mimetype": "text/x-python",
   "name": "python",
   "nbconvert_exporter": "python",
   "pygments_lexer": "ipython3",
   "version": "3.11.7"
  }
 },
 "nbformat": 4,
 "nbformat_minor": 5
}
